{
 "cells": [
  {
   "cell_type": "markdown",
   "metadata": {},
   "source": [
    "<h1 align=\"center\"> Analysis of the determinant of the labour supply of females living in a couple </h1>\n",
    "\n",
    "<h2 align=\"center\"> An econometric approach </h2>"
   ]
  },
  {
   "cell_type": "code",
   "execution_count": 2,
   "metadata": {},
   "outputs": [],
   "source": [
    "import pandas as pd\n",
    "import numpy as np\n",
    "import matplotlib.pyplot as plt\n",
    "import seaborn as sns\n",
    "sns.set_style(\"darkgrid\")\n",
    "import statsmodels.api as sm"
   ]
  },
  {
   "cell_type": "code",
   "execution_count": 3,
   "metadata": {},
   "outputs": [
    {
     "name": "stdout",
     "output_type": "stream",
     "text": [
      "dataset shape: (2948, 8)\n"
     ]
    },
    {
     "data": {
      "text/html": [
       "<div>\n",
       "<style scoped>\n",
       "    .dataframe tbody tr th:only-of-type {\n",
       "        vertical-align: middle;\n",
       "    }\n",
       "\n",
       "    .dataframe tbody tr th {\n",
       "        vertical-align: top;\n",
       "    }\n",
       "\n",
       "    .dataframe thead th {\n",
       "        text-align: right;\n",
       "    }\n",
       "</style>\n",
       "<table border=\"1\" class=\"dataframe\">\n",
       "  <thead>\n",
       "    <tr style=\"text-align: right;\">\n",
       "      <th></th>\n",
       "      <th>lfstat</th>\n",
       "      <th>educ</th>\n",
       "      <th>age</th>\n",
       "      <th>agesq</th>\n",
       "      <th>kids</th>\n",
       "      <th>kids11</th>\n",
       "      <th>goodhealth</th>\n",
       "      <th>nonlaby</th>\n",
       "    </tr>\n",
       "  </thead>\n",
       "  <tbody>\n",
       "    <tr>\n",
       "      <td>0</td>\n",
       "      <td>1</td>\n",
       "      <td>11</td>\n",
       "      <td>54</td>\n",
       "      <td>2916</td>\n",
       "      <td>0</td>\n",
       "      <td>0</td>\n",
       "      <td>1</td>\n",
       "      <td>0.025000</td>\n",
       "    </tr>\n",
       "    <tr>\n",
       "      <td>1</td>\n",
       "      <td>0</td>\n",
       "      <td>18</td>\n",
       "      <td>30</td>\n",
       "      <td>900</td>\n",
       "      <td>2</td>\n",
       "      <td>0</td>\n",
       "      <td>1</td>\n",
       "      <td>0.166436</td>\n",
       "    </tr>\n",
       "    <tr>\n",
       "      <td>2</td>\n",
       "      <td>2</td>\n",
       "      <td>18</td>\n",
       "      <td>41</td>\n",
       "      <td>1681</td>\n",
       "      <td>1</td>\n",
       "      <td>1</td>\n",
       "      <td>1</td>\n",
       "      <td>0.111828</td>\n",
       "    </tr>\n",
       "    <tr>\n",
       "      <td>3</td>\n",
       "      <td>0</td>\n",
       "      <td>18</td>\n",
       "      <td>32</td>\n",
       "      <td>1024</td>\n",
       "      <td>4</td>\n",
       "      <td>0</td>\n",
       "      <td>1</td>\n",
       "      <td>0.678541</td>\n",
       "    </tr>\n",
       "    <tr>\n",
       "      <td>4</td>\n",
       "      <td>1</td>\n",
       "      <td>18</td>\n",
       "      <td>34</td>\n",
       "      <td>1156</td>\n",
       "      <td>2</td>\n",
       "      <td>0</td>\n",
       "      <td>1</td>\n",
       "      <td>0.158648</td>\n",
       "    </tr>\n",
       "  </tbody>\n",
       "</table>\n",
       "</div>"
      ],
      "text/plain": [
       "   lfstat  educ  age  agesq  kids  kids11  goodhealth   nonlaby\n",
       "0       1    11   54   2916     0       0           1  0.025000\n",
       "1       0    18   30    900     2       0           1  0.166436\n",
       "2       2    18   41   1681     1       1           1  0.111828\n",
       "3       0    18   32   1024     4       0           1  0.678541\n",
       "4       1    18   34   1156     2       0           1  0.158648"
      ]
     },
     "execution_count": 3,
     "metadata": {},
     "output_type": "execute_result"
    }
   ],
   "source": [
    "df = pd.read_csv(\"AMSE80.dat\", sep=\" \", header=None, encoding=\"latin\")\n",
    "df.columns = [\"lfstat\",\"educ\",\"age\",\"agesq\",\"kids\",\"kids11\",\"goodhealth\",\"nonlaby\"]\n",
    "print(\"dataset shape: {}\".format(df.shape))\n",
    "df.head()"
   ]
  },
  {
   "cell_type": "markdown",
   "metadata": {},
   "source": [
    "Our table is made of __8 variables__ and __2948 observations.__ We have : \n",
    "\n",
    "__5 quantitatives variables :__ `educ`, `age`, `agesq`, `kids`, `nonlaby` \n",
    "\n",
    "__3 qualitatives variables :__ `lfstat`, `kids11`, `goodhealth` \n",
    "\n",
    "Our variable of interest is `lfstat`. It qualifies __the kind of employment occupied by a woman__ and can take four different values :  \n",
    "\n",
    " * 0 if she does not work\n",
    " * 1 if she works as part-time\n",
    " * 2 if she works as full-time\n",
    " * 3 if she works as over-time"
   ]
  },
  {
   "cell_type": "markdown",
   "metadata": {},
   "source": [
    "# 1. Exploratory data analysis"
   ]
  },
  {
   "cell_type": "code",
   "execution_count": 4,
   "metadata": {},
   "outputs": [],
   "source": [
    "# Some useful functions \n",
    "\n",
    "def get_countplot(feature, x_label) : \n",
    "    '''\n",
    "    function to get count for a given feature\n",
    "    '''\n",
    "    plt.figure(figsize=(10,6))\n",
    "    g = sns.countplot(x=feature, data=df, palette=\"Blues\")\n",
    "    a = pd.DataFrame(df.groupby(feature).size(), columns=[feature]).reset_index(drop=True)\n",
    "    for index, row in a.iterrows() :\n",
    "        g.text(row.name, row[feature] + 10, row[feature], color='black', ha=\"center\", fontsize=13)\n",
    "    plt.xlabel(x_label, fontsize=18) ; plt.ylabel(\"Count\",fontsize=18) ;\n",
    "    plt.xticks(fontsize=14) ; plt.yticks(fontsize=14)\n",
    "    plt.show()\n",
    "\n",
    "def get_distplot(feature, x_label) : \n",
    "    '''\n",
    "    Function to get the distribution plot for a continuous feature\n",
    "    '''\n",
    "    plt.figure(figsize=(12,6)) ; sns.distplot(df[feature]) ;\n",
    "    plt.xlabel(x_label, fontsize=18) ; plt.ylabel(\"Distribution\", fontsize=18) ;\n",
    "    plt.xticks(fontsize=14) ; plt.yticks(fontsize=14) ;\n",
    "    plt.show()\n",
    "    \n",
    "def get_describe(feature) : \n",
    "    return df[[feature]].describe().T\n",
    "\n",
    "def get_crosstab_graph(feature1, feature2) :\n",
    "    \n",
    "    table = pd.crosstab(df[feature1], df[feature2], normalize=\"index\")\n",
    "    fig, ax1 = plt.subplots(figsize=(10, 5))\n",
    "    stacked = table.stack().reset_index().rename(columns={0:'value'})\n",
    "    sns.barplot(x=stacked[feature2], y=stacked.value, hue=stacked[feature1], palette=\"Blues_d\")\n",
    "    plt.xticks(fontsize=16) ; plt.yticks(fontsize=13)\n",
    "    plt.xlabel(feature2,fontsize=20) ; plt.ylabel(\"Proportion\", fontsize=20)\n",
    "    \n",
    "    vals = ax1.get_yticks()\n",
    "    ax1.set_yticklabels(['{:,.0%}'.format(x) for x in vals])\n",
    "    \n",
    "    ax1.legend(title=feature1, title_fontsize=13, fontsize=13)\n",
    "\n",
    "    for a in ax1.patches :\n",
    "        height = a.get_height()\n",
    "        ax1.text(a.get_x() + a.get_width()/1.8, height+0.005, \"{:.0%}\".format(height), ha='center', fontsize=12)\n",
    "    plt.show()"
   ]
  },
  {
   "cell_type": "markdown",
   "metadata": {},
   "source": [
    "## 1.1 Quantitative variables"
   ]
  },
  {
   "cell_type": "markdown",
   "metadata": {},
   "source": [
    "* __Education :__"
   ]
  },
  {
   "cell_type": "code",
   "execution_count": 5,
   "metadata": {},
   "outputs": [
    {
     "data": {
      "text/html": [
       "<div>\n",
       "<style scoped>\n",
       "    .dataframe tbody tr th:only-of-type {\n",
       "        vertical-align: middle;\n",
       "    }\n",
       "\n",
       "    .dataframe tbody tr th {\n",
       "        vertical-align: top;\n",
       "    }\n",
       "\n",
       "    .dataframe thead th {\n",
       "        text-align: right;\n",
       "    }\n",
       "</style>\n",
       "<table border=\"1\" class=\"dataframe\">\n",
       "  <thead>\n",
       "    <tr style=\"text-align: right;\">\n",
       "      <th></th>\n",
       "      <th>count</th>\n",
       "      <th>mean</th>\n",
       "      <th>std</th>\n",
       "      <th>min</th>\n",
       "      <th>25%</th>\n",
       "      <th>50%</th>\n",
       "      <th>75%</th>\n",
       "      <th>max</th>\n",
       "    </tr>\n",
       "  </thead>\n",
       "  <tbody>\n",
       "    <tr>\n",
       "      <td>educ</td>\n",
       "      <td>2948.0</td>\n",
       "      <td>14.330393</td>\n",
       "      <td>3.215915</td>\n",
       "      <td>11.0</td>\n",
       "      <td>11.0</td>\n",
       "      <td>13.0</td>\n",
       "      <td>18.0</td>\n",
       "      <td>18.0</td>\n",
       "    </tr>\n",
       "  </tbody>\n",
       "</table>\n",
       "</div>"
      ],
      "text/plain": [
       "       count       mean       std   min   25%   50%   75%   max\n",
       "educ  2948.0  14.330393  3.215915  11.0  11.0  13.0  18.0  18.0"
      ]
     },
     "execution_count": 5,
     "metadata": {},
     "output_type": "execute_result"
    }
   ],
   "source": [
    "get_describe('educ')"
   ]
  },
  {
   "cell_type": "markdown",
   "metadata": {},
   "source": [
    "The females involved in this study have, __in average, 14 years of education.__ We can notice that __the minimum level of education among them is 11 years__, certainly due to a minimum compulsory education level to have before exiting from school. Let's also notice that the first quartile is still the minimum. So __at least 1 out of 4 females in this sample has left school after the minimum required education level.__"
   ]
  },
  {
   "cell_type": "code",
   "execution_count": 6,
   "metadata": {},
   "outputs": [
    {
     "data": {
      "image/png": "[encoded data removed]",
      "text/plain": [
       "<Figure size 720x432 with 1 Axes>"
      ]
     },
     "metadata": {},
     "output_type": "display_data"
    }
   ],
   "source": [
    "get_countplot(\"educ\", \"Education (years)\")"
   ]
  },
  {
   "cell_type": "markdown",
   "metadata": {},
   "source": [
    "* __Age :__"
   ]
  },
  {
   "cell_type": "code",
   "execution_count": 7,
   "metadata": {},
   "outputs": [
    {
     "data": {
      "text/html": [
       "<div>\n",
       "<style scoped>\n",
       "    .dataframe tbody tr th:only-of-type {\n",
       "        vertical-align: middle;\n",
       "    }\n",
       "\n",
       "    .dataframe tbody tr th {\n",
       "        vertical-align: top;\n",
       "    }\n",
       "\n",
       "    .dataframe thead th {\n",
       "        text-align: right;\n",
       "    }\n",
       "</style>\n",
       "<table border=\"1\" class=\"dataframe\">\n",
       "  <thead>\n",
       "    <tr style=\"text-align: right;\">\n",
       "      <th></th>\n",
       "      <th>count</th>\n",
       "      <th>mean</th>\n",
       "      <th>std</th>\n",
       "      <th>min</th>\n",
       "      <th>25%</th>\n",
       "      <th>50%</th>\n",
       "      <th>75%</th>\n",
       "      <th>max</th>\n",
       "    </tr>\n",
       "  </thead>\n",
       "  <tbody>\n",
       "    <tr>\n",
       "      <td>age</td>\n",
       "      <td>2948.0</td>\n",
       "      <td>40.402307</td>\n",
       "      <td>10.578914</td>\n",
       "      <td>18.0</td>\n",
       "      <td>32.0</td>\n",
       "      <td>40.0</td>\n",
       "      <td>49.0</td>\n",
       "      <td>60.0</td>\n",
       "    </tr>\n",
       "  </tbody>\n",
       "</table>\n",
       "</div>"
      ],
      "text/plain": [
       "      count       mean        std   min   25%   50%   75%   max\n",
       "age  2948.0  40.402307  10.578914  18.0  32.0  40.0  49.0  60.0"
      ]
     },
     "execution_count": 7,
     "metadata": {},
     "output_type": "execute_result"
    }
   ],
   "source": [
    "get_describe(\"age\")"
   ]
  },
  {
   "cell_type": "markdown",
   "metadata": {},
   "source": [
    "__The average (and median) age__ of the females in this sample is __40 years old :__ there is as much females under 40 years old than females above this age. The distribution of age seems to be centered of 40 years old. The minimum age is 18 and the maximum 60 years old : so __the study involves females in the beginning of their career as well as female at the end.__"
   ]
  },
  {
   "cell_type": "code",
   "execution_count": 8,
   "metadata": {},
   "outputs": [
    {
     "data": {
      "image/png": "[encoded data removed]",
      "text/plain": [
       "<Figure size 864x432 with 1 Axes>"
      ]
     },
     "metadata": {},
     "output_type": "display_data"
    }
   ],
   "source": [
    "get_distplot(\"age\",\"Age\")"
   ]
  },
  {
   "cell_type": "markdown",
   "metadata": {},
   "source": [
    "* __Kids :__"
   ]
  },
  {
   "cell_type": "code",
   "execution_count": 9,
   "metadata": {},
   "outputs": [
    {
     "data": {
      "text/html": [
       "<div>\n",
       "<style scoped>\n",
       "    .dataframe tbody tr th:only-of-type {\n",
       "        vertical-align: middle;\n",
       "    }\n",
       "\n",
       "    .dataframe tbody tr th {\n",
       "        vertical-align: top;\n",
       "    }\n",
       "\n",
       "    .dataframe thead th {\n",
       "        text-align: right;\n",
       "    }\n",
       "</style>\n",
       "<table border=\"1\" class=\"dataframe\">\n",
       "  <thead>\n",
       "    <tr style=\"text-align: right;\">\n",
       "      <th></th>\n",
       "      <th>count</th>\n",
       "      <th>mean</th>\n",
       "      <th>std</th>\n",
       "      <th>min</th>\n",
       "      <th>25%</th>\n",
       "      <th>50%</th>\n",
       "      <th>75%</th>\n",
       "      <th>max</th>\n",
       "    </tr>\n",
       "  </thead>\n",
       "  <tbody>\n",
       "    <tr>\n",
       "      <td>kids</td>\n",
       "      <td>2948.0</td>\n",
       "      <td>0.90502</td>\n",
       "      <td>1.051024</td>\n",
       "      <td>0.0</td>\n",
       "      <td>0.0</td>\n",
       "      <td>1.0</td>\n",
       "      <td>2.0</td>\n",
       "      <td>4.0</td>\n",
       "    </tr>\n",
       "  </tbody>\n",
       "</table>\n",
       "</div>"
      ],
      "text/plain": [
       "       count     mean       std  min  25%  50%  75%  max\n",
       "kids  2948.0  0.90502  1.051024  0.0  0.0  1.0  2.0  4.0"
      ]
     },
     "execution_count": 9,
     "metadata": {},
     "output_type": "execute_result"
    }
   ],
   "source": [
    "get_describe(\"kids\")"
   ]
  },
  {
   "cell_type": "markdown",
   "metadata": {},
   "source": [
    "There are as much females with one kid or no kid than females with more than one kid (as the median is 1)."
   ]
  },
  {
   "cell_type": "code",
   "execution_count": 10,
   "metadata": {},
   "outputs": [
    {
     "data": {
      "image/png": "[encoded data removed]",
      "text/plain": [
       "<Figure size 720x432 with 1 Axes>"
      ]
     },
     "metadata": {},
     "output_type": "display_data"
    }
   ],
   "source": [
    "get_countplot(\"kids\",\"Number of kids\")"
   ]
  },
  {
   "cell_type": "markdown",
   "metadata": {},
   "source": [
    "* __Nonlaby :__"
   ]
  },
  {
   "cell_type": "code",
   "execution_count": 11,
   "metadata": {},
   "outputs": [
    {
     "data": {
      "text/html": [
       "<div>\n",
       "<style scoped>\n",
       "    .dataframe tbody tr th:only-of-type {\n",
       "        vertical-align: middle;\n",
       "    }\n",
       "\n",
       "    .dataframe tbody tr th {\n",
       "        vertical-align: top;\n",
       "    }\n",
       "\n",
       "    .dataframe thead th {\n",
       "        text-align: right;\n",
       "    }\n",
       "</style>\n",
       "<table border=\"1\" class=\"dataframe\">\n",
       "  <thead>\n",
       "    <tr style=\"text-align: right;\">\n",
       "      <th></th>\n",
       "      <th>count</th>\n",
       "      <th>mean</th>\n",
       "      <th>std</th>\n",
       "      <th>min</th>\n",
       "      <th>25%</th>\n",
       "      <th>50%</th>\n",
       "      <th>75%</th>\n",
       "      <th>max</th>\n",
       "    </tr>\n",
       "  </thead>\n",
       "  <tbody>\n",
       "    <tr>\n",
       "      <td>nonlaby</td>\n",
       "      <td>2948.0</td>\n",
       "      <td>0.2187</td>\n",
       "      <td>0.346833</td>\n",
       "      <td>0.0</td>\n",
       "      <td>0.005</td>\n",
       "      <td>0.111455</td>\n",
       "      <td>0.264799</td>\n",
       "      <td>4.4</td>\n",
       "    </tr>\n",
       "  </tbody>\n",
       "</table>\n",
       "</div>"
      ],
      "text/plain": [
       "          count    mean       std  min    25%       50%       75%  max\n",
       "nonlaby  2948.0  0.2187  0.346833  0.0  0.005  0.111455  0.264799  4.4"
      ]
     },
     "execution_count": 11,
     "metadata": {},
     "output_type": "execute_result"
    }
   ],
   "source": [
    "get_describe(\"nonlaby\")"
   ]
  },
  {
   "cell_type": "markdown",
   "metadata": {},
   "source": [
    "Let `ui` be \"unit of income\". The average non labour income among the sampled females is `0.22ui`, whereas the median is `0.11ui`, that is half of the mean. This shows us the presence of extreme values and the fact that the non labour income distribution should be right tailed. In other words, there is appearently a lot of inequalities among females speaking of their non labour income. "
   ]
  },
  {
   "cell_type": "code",
   "execution_count": 12,
   "metadata": {},
   "outputs": [
    {
     "data": {
      "image/png": "[encoded data removed]",
      "text/plain": [
       "<Figure size 864x432 with 1 Axes>"
      ]
     },
     "metadata": {},
     "output_type": "display_data"
    }
   ],
   "source": [
    "get_distplot(\"nonlaby\", \"Non labour income\")"
   ]
  },
  {
   "cell_type": "markdown",
   "metadata": {},
   "source": [
    "All these variables might influence the number of worked hour and so the labour supply of females."
   ]
  },
  {
   "cell_type": "markdown",
   "metadata": {},
   "source": [
    "## 1.2 Qualitative variables"
   ]
  },
  {
   "cell_type": "markdown",
   "metadata": {},
   "source": [
    "* __lfstat :__"
   ]
  },
  {
   "cell_type": "code",
   "execution_count": 13,
   "metadata": {},
   "outputs": [
    {
     "data": {
      "text/html": [
       "<div>\n",
       "<style scoped>\n",
       "    .dataframe tbody tr th:only-of-type {\n",
       "        vertical-align: middle;\n",
       "    }\n",
       "\n",
       "    .dataframe tbody tr th {\n",
       "        vertical-align: top;\n",
       "    }\n",
       "\n",
       "    .dataframe thead th {\n",
       "        text-align: right;\n",
       "    }\n",
       "</style>\n",
       "<table border=\"1\" class=\"dataframe\">\n",
       "  <thead>\n",
       "    <tr style=\"text-align: right;\">\n",
       "      <th></th>\n",
       "      <th>count</th>\n",
       "      <th>mean</th>\n",
       "      <th>std</th>\n",
       "      <th>min</th>\n",
       "      <th>25%</th>\n",
       "      <th>50%</th>\n",
       "      <th>75%</th>\n",
       "      <th>max</th>\n",
       "    </tr>\n",
       "  </thead>\n",
       "  <tbody>\n",
       "    <tr>\n",
       "      <td>lfstat</td>\n",
       "      <td>2948.0</td>\n",
       "      <td>1.280868</td>\n",
       "      <td>0.928645</td>\n",
       "      <td>0.0</td>\n",
       "      <td>1.0</td>\n",
       "      <td>1.0</td>\n",
       "      <td>2.0</td>\n",
       "      <td>3.0</td>\n",
       "    </tr>\n",
       "  </tbody>\n",
       "</table>\n",
       "</div>"
      ],
      "text/plain": [
       "         count      mean       std  min  25%  50%  75%  max\n",
       "lfstat  2948.0  1.280868  0.928645  0.0  1.0  1.0  2.0  3.0"
      ]
     },
     "execution_count": 13,
     "metadata": {},
     "output_type": "execute_result"
    }
   ],
   "source": [
    "get_describe(\"lfstat\")"
   ]
  },
  {
   "cell_type": "markdown",
   "metadata": {},
   "source": [
    "The most frequent value of `lfstat` is 1 : so the majority of females work in part-time jobs. There is even more women working in part-time jobs than women working in full-time jobs."
   ]
  },
  {
   "cell_type": "code",
   "execution_count": 14,
   "metadata": {},
   "outputs": [
    {
     "data": {
      "image/png": "[encoded data removed]",
      "text/plain": [
       "<Figure size 720x432 with 1 Axes>"
      ]
     },
     "metadata": {},
     "output_type": "display_data"
    }
   ],
   "source": [
    "get_countplot(\"lfstat\",\"lfstat\")"
   ]
  },
  {
   "cell_type": "markdown",
   "metadata": {},
   "source": [
    "* __kids11 :__"
   ]
  },
  {
   "cell_type": "code",
   "execution_count": 15,
   "metadata": {},
   "outputs": [
    {
     "data": {
      "image/png": "[encoded data removed]",
      "text/plain": [
       "<Figure size 720x432 with 1 Axes>"
      ]
     },
     "metadata": {},
     "output_type": "display_data"
    },
    {
     "name": "stdout",
     "output_type": "stream",
     "text": [
      "Proportion of women having kid(s) under 11: 21%\n"
     ]
    }
   ],
   "source": [
    "get_countplot(\"kids11\", \"Having kids under 11\")\n",
    "print(\"Proportion of women having kid(s) under 11: {:.0%}\".format(df.kids11.mean()))"
   ]
  },
  {
   "cell_type": "markdown",
   "metadata": {},
   "source": [
    "* __goodhealth :__ "
   ]
  },
  {
   "cell_type": "code",
   "execution_count": 16,
   "metadata": {},
   "outputs": [
    {
     "data": {
      "image/png": "[encoded data removed]",
      "text/plain": [
       "<Figure size 720x432 with 1 Axes>"
      ]
     },
     "metadata": {},
     "output_type": "display_data"
    },
    {
     "name": "stdout",
     "output_type": "stream",
     "text": [
      "Proportion of females in bad health: 10%\n"
     ]
    }
   ],
   "source": [
    "get_countplot(\"goodhealth\", \"Being in good health\")\n",
    "print(\"Proportion of females in bad health: {:.0%}\".format(1-df.goodhealth.mean()))"
   ]
  },
  {
   "cell_type": "markdown",
   "metadata": {},
   "source": [
    "## 1.3 Variables crossing"
   ]
  },
  {
   "cell_type": "markdown",
   "metadata": {},
   "source": [
    "* __kids11 * lfstat__"
   ]
  },
  {
   "cell_type": "code",
   "execution_count": 17,
   "metadata": {},
   "outputs": [
    {
     "data": {
      "image/png": "[encoded data removed]",
      "text/plain": [
       "<Figure size 720x360 with 1 Axes>"
      ]
     },
     "metadata": {},
     "output_type": "display_data"
    }
   ],
   "source": [
    "get_crosstab_graph(\"kids11\",\"lfstat\")"
   ]
  },
  {
   "cell_type": "markdown",
   "metadata": {},
   "source": [
    "We can easily notice with the barplot that there are __more females not working at all in the group of females with kid(s) under 11 (28%) compared to the others females (22%).__\n",
    "\n",
    "Also, there are clearly __less females working full time or over-time in the group of females having kid(s) under 11.__ So having kid(s) under the age of 11 years old could likely negatively impact the degree of labour supply of females."
   ]
  },
  {
   "cell_type": "markdown",
   "metadata": {},
   "source": [
    "* __goodhealth * lfstat__"
   ]
  },
  {
   "cell_type": "code",
   "execution_count": 18,
   "metadata": {},
   "outputs": [
    {
     "data": {
      "image/png": "[encoded data removed]",
      "text/plain": [
       "<Figure size 720x360 with 1 Axes>"
      ]
     },
     "metadata": {},
     "output_type": "display_data"
    }
   ],
   "source": [
    "get_crosstab_graph(\"goodhealth\",\"lfstat\")"
   ]
  },
  {
   "cell_type": "markdown",
   "metadata": {},
   "source": [
    "As we can notice through the barplot, __females in good health participate more to the labor market than those in poor health.__ Indeed, __42% of females in bad health do not work at all, versus 21% of females in good health__ : unsurprisingly, being in good health seems to favour the labour supply of females. "
   ]
  },
  {
   "cell_type": "markdown",
   "metadata": {},
   "source": [
    "# 2. Binary logit model"
   ]
  },
  {
   "cell_type": "markdown",
   "metadata": {},
   "source": [
    "Let `work`  be a dummy variable to identify whether of not someone works such as :  \n",
    "\n",
    "$$\n",
    "work = \\left\\{\n",
    "    \\begin{array}{ll}\n",
    "        1 & \\mbox{if works}\\\\\n",
    "        0 & \\mbox{otherwise}\n",
    "    \\end{array}\n",
    "\\right.\n",
    "$$"
   ]
  },
  {
   "cell_type": "code",
   "execution_count": 19,
   "metadata": {},
   "outputs": [
    {
     "name": "stdout",
     "output_type": "stream",
     "text": [
      "Optimization terminated successfully.\n",
      "         Current function value: 0.473596\n",
      "         Iterations 6\n"
     ]
    }
   ],
   "source": [
    "df[\"work\"] = df.lfstat.apply(lambda x : 1 if x !=0 else 0)\n",
    "X = df.drop([\"work\",\"lfstat\"], axis=1)\n",
    "y = df[\"work\"]\n",
    "logit = sm.Logit(y,X)\n",
    "result = logit.fit()"
   ]
  },
  {
   "cell_type": "code",
   "execution_count": 20,
   "metadata": {},
   "outputs": [
    {
     "data": {
      "text/html": [
       "<table class=\"simpletable\">\n",
       "<caption>Logit Regression Results</caption>\n",
       "<tr>\n",
       "  <th>Dep. Variable:</th>       <td>work</td>       <th>  No. Observations:  </th>  <td>  2948</td>  \n",
       "</tr>\n",
       "<tr>\n",
       "  <th>Model:</th>               <td>Logit</td>      <th>  Df Residuals:      </th>  <td>  2941</td>  \n",
       "</tr>\n",
       "<tr>\n",
       "  <th>Method:</th>               <td>MLE</td>       <th>  Df Model:          </th>  <td>     6</td>  \n",
       "</tr>\n",
       "<tr>\n",
       "  <th>Date:</th>          <td>Thu, 26 Sep 2019</td> <th>  Pseudo R-squ.:     </th>  <td>0.1218</td>  \n",
       "</tr>\n",
       "<tr>\n",
       "  <th>Time:</th>              <td>15:17:05</td>     <th>  Log-Likelihood:    </th> <td> -1396.2</td> \n",
       "</tr>\n",
       "<tr>\n",
       "  <th>converged:</th>           <td>True</td>       <th>  LL-Null:           </th> <td> -1589.7</td> \n",
       "</tr>\n",
       "<tr>\n",
       "  <th> </th>                      <td> </td>        <th>  LLR p-value:       </th> <td>1.612e-80</td>\n",
       "</tr>\n",
       "</table>\n",
       "<table class=\"simpletable\">\n",
       "<tr>\n",
       "       <td></td>         <th>coef</th>     <th>std err</th>      <th>z</th>      <th>P>|z|</th>  <th>[0.025</th>    <th>0.975]</th>  \n",
       "</tr>\n",
       "<tr>\n",
       "  <th>educ</th>       <td>    0.0543</td> <td>    0.014</td> <td>    3.759</td> <td> 0.000</td> <td>    0.026</td> <td>    0.083</td>\n",
       "</tr>\n",
       "<tr>\n",
       "  <th>age</th>        <td>    0.0437</td> <td>    0.015</td> <td>    2.844</td> <td> 0.004</td> <td>    0.014</td> <td>    0.074</td>\n",
       "</tr>\n",
       "<tr>\n",
       "  <th>agesq</th>      <td>   -0.0006</td> <td>    0.000</td> <td>   -2.667</td> <td> 0.008</td> <td>   -0.001</td> <td>   -0.000</td>\n",
       "</tr>\n",
       "<tr>\n",
       "  <th>kids</th>       <td>   -0.4741</td> <td>    0.055</td> <td>   -8.691</td> <td> 0.000</td> <td>   -0.581</td> <td>   -0.367</td>\n",
       "</tr>\n",
       "<tr>\n",
       "  <th>kids11</th>     <td>   -0.4466</td> <td>    0.110</td> <td>   -4.046</td> <td> 0.000</td> <td>   -0.663</td> <td>   -0.230</td>\n",
       "</tr>\n",
       "<tr>\n",
       "  <th>goodhealth</th> <td>    0.7856</td> <td>    0.141</td> <td>    5.562</td> <td> 0.000</td> <td>    0.509</td> <td>    1.062</td>\n",
       "</tr>\n",
       "<tr>\n",
       "  <th>nonlaby</th>    <td>   -1.2645</td> <td>    0.151</td> <td>   -8.377</td> <td> 0.000</td> <td>   -1.560</td> <td>   -0.969</td>\n",
       "</tr>\n",
       "</table>"
      ],
      "text/plain": [
       "<class 'statsmodels.iolib.summary.Summary'>\n",
       "\"\"\"\n",
       "                           Logit Regression Results                           \n",
       "==============================================================================\n",
       "Dep. Variable:                   work   No. Observations:                 2948\n",
       "Model:                          Logit   Df Residuals:                     2941\n",
       "Method:                           MLE   Df Model:                            6\n",
       "Date:                Thu, 26 Sep 2019   Pseudo R-squ.:                  0.1218\n",
       "Time:                        15:17:05   Log-Likelihood:                -1396.2\n",
       "converged:                       True   LL-Null:                       -1589.7\n",
       "                                        LLR p-value:                 1.612e-80\n",
       "==============================================================================\n",
       "                 coef    std err          z      P>|z|      [0.025      0.975]\n",
       "------------------------------------------------------------------------------\n",
       "educ           0.0543      0.014      3.759      0.000       0.026       0.083\n",
       "age            0.0437      0.015      2.844      0.004       0.014       0.074\n",
       "agesq         -0.0006      0.000     -2.667      0.008      -0.001      -0.000\n",
       "kids          -0.4741      0.055     -8.691      0.000      -0.581      -0.367\n",
       "kids11        -0.4466      0.110     -4.046      0.000      -0.663      -0.230\n",
       "goodhealth     0.7856      0.141      5.562      0.000       0.509       1.062\n",
       "nonlaby       -1.2645      0.151     -8.377      0.000      -1.560      -0.969\n",
       "==============================================================================\n",
       "\"\"\""
      ]
     },
     "execution_count": 20,
     "metadata": {},
     "output_type": "execute_result"
    }
   ],
   "source": [
    "result.summary()"
   ]
  },
  {
   "cell_type": "markdown",
   "metadata": {},
   "source": [
    "* All the coefficients are significant at the threshold of 5% as all the p-values are lower than 5%.\n",
    "\n",
    "* Education, and being in good health respectively have a positive impact on the probability of working (as their coefficients are positives).\n",
    "\n",
    "* Age seems to have a concave relationship with the probability of working (as the coefficient of age is positive but the one of agesq is negative) : so age positively impacts the probability of working but less and less as the female get older. \n",
    "\n",
    "* \"Having kids\", \"having kid(s) under 11\" and \"the amount of non labor income\" respectively negatively impacts the probability of working (as their coefficients are negatives)."
   ]
  },
  {
   "cell_type": "markdown",
   "metadata": {},
   "source": [
    "## 2.1 Odds ratio"
   ]
  },
  {
   "cell_type": "code",
   "execution_count": 21,
   "metadata": {},
   "outputs": [
    {
     "data": {
      "text/plain": [
       "educ          1.055834\n",
       "age           1.044631\n",
       "agesq         0.999391\n",
       "kids          0.622417\n",
       "kids11        0.639793\n",
       "goodhealth    2.193678\n",
       "nonlaby       0.282392\n",
       "dtype: float64"
      ]
     },
     "execution_count": 21,
     "metadata": {},
     "output_type": "execute_result"
    }
   ],
   "source": [
    "np.exp(result.params)"
   ]
  },
  {
   "cell_type": "markdown",
   "metadata": {},
   "source": [
    "* Having one more year of education (everything else being equal) multiplies by 1.06 the probability of working : increase of the probability\n",
    "\n",
    "* Having one more kid (everything else being equal) multiplies by 0.62 the probability of working : decrease of the probability\n",
    "\n",
    "* Having kid(s) under 11 (everything else being equal) multiplies by 0.64 the probability of working : decrease of the probability\n",
    "\n",
    "* Having a good health (everything else being equal) multiplies by 2.2 the probability of working : increase of the probability\n",
    "\n",
    "* Having one more unit of non labor income (everything else being equal) multiplies by 0.3 (divides by 3) - the probability of working : decrease of the probability."
   ]
  },
  {
   "cell_type": "markdown",
   "metadata": {},
   "source": [
    "## 2.2 Marginal effects "
   ]
  },
  {
   "cell_type": "code",
   "execution_count": 22,
   "metadata": {},
   "outputs": [
    {
     "data": {
      "text/html": [
       "<table class=\"simpletable\">\n",
       "<caption>Logit Marginal Effects</caption>\n",
       "<tr>\n",
       "  <th>Dep. Variable:</th>  <td>work</td>  \n",
       "</tr>\n",
       "<tr>\n",
       "  <th>Method:</th>         <td>dydx</td>  \n",
       "</tr>\n",
       "<tr>\n",
       "  <th>At:</th>            <td>overall</td>\n",
       "</tr>\n",
       "</table>\n",
       "<table class=\"simpletable\">\n",
       "<tr>\n",
       "       <th></th>         <th>dy/dx</th>    <th>std err</th>      <th>z</th>      <th>P>|z|</th>  <th>[0.025</th>    <th>0.975]</th>  \n",
       "</tr>\n",
       "<tr>\n",
       "  <th>educ</th>       <td>    0.0083</td> <td>    0.002</td> <td>    3.782</td> <td> 0.000</td> <td>    0.004</td> <td>    0.013</td>\n",
       "</tr>\n",
       "<tr>\n",
       "  <th>age</th>        <td>    0.0066</td> <td>    0.002</td> <td>    2.857</td> <td> 0.004</td> <td>    0.002</td> <td>    0.011</td>\n",
       "</tr>\n",
       "<tr>\n",
       "  <th>agesq</th>      <td>-9.254e-05</td> <td> 3.46e-05</td> <td>   -2.677</td> <td> 0.007</td> <td>   -0.000</td> <td>-2.48e-05</td>\n",
       "</tr>\n",
       "<tr>\n",
       "  <th>kids</th>       <td>   -0.0721</td> <td>    0.008</td> <td>   -8.972</td> <td> 0.000</td> <td>   -0.088</td> <td>   -0.056</td>\n",
       "</tr>\n",
       "<tr>\n",
       "  <th>kids11</th>     <td>   -0.0714</td> <td>    0.018</td> <td>   -3.876</td> <td> 0.000</td> <td>   -0.108</td> <td>   -0.035</td>\n",
       "</tr>\n",
       "<tr>\n",
       "  <th>goodhealth</th> <td>    0.1372</td> <td>    0.027</td> <td>    5.026</td> <td> 0.000</td> <td>    0.084</td> <td>    0.191</td>\n",
       "</tr>\n",
       "<tr>\n",
       "  <th>nonlaby</th>    <td>   -0.1922</td> <td>    0.022</td> <td>   -8.739</td> <td> 0.000</td> <td>   -0.235</td> <td>   -0.149</td>\n",
       "</tr>\n",
       "</table>"
      ],
      "text/plain": [
       "<class 'statsmodels.iolib.summary.Summary'>\n",
       "\"\"\"\n",
       "        Logit Marginal Effects       \n",
       "=====================================\n",
       "Dep. Variable:                   work\n",
       "Method:                          dydx\n",
       "At:                           overall\n",
       "==============================================================================\n",
       "                dy/dx    std err          z      P>|z|      [0.025      0.975]\n",
       "------------------------------------------------------------------------------\n",
       "educ           0.0083      0.002      3.782      0.000       0.004       0.013\n",
       "age            0.0066      0.002      2.857      0.004       0.002       0.011\n",
       "agesq      -9.254e-05   3.46e-05     -2.677      0.007      -0.000   -2.48e-05\n",
       "kids          -0.0721      0.008     -8.972      0.000      -0.088      -0.056\n",
       "kids11        -0.0714      0.018     -3.876      0.000      -0.108      -0.035\n",
       "goodhealth     0.1372      0.027      5.026      0.000       0.084       0.191\n",
       "nonlaby       -0.1922      0.022     -8.739      0.000      -0.235      -0.149\n",
       "==============================================================================\n",
       "\"\"\""
      ]
     },
     "execution_count": 22,
     "metadata": {},
     "output_type": "execute_result"
    }
   ],
   "source": [
    "result.get_margeff(dummy=True).summary()"
   ]
  },
  {
   "cell_type": "markdown",
   "metadata": {},
   "source": [
    "* One more year of education (everything else being equal), increases the probability of working by 0.83%\n",
    "* Until a certain threshold, being older of one year (everything else being equal), increases the probability of working by 0.66%\n",
    "* Having one more kid (everything else being equal), decreases the probability of working by 7.2%\n",
    "* Compared to a female of same characteristics (same educ, age, kids, goodhealth, nonlaby) but having no kid(s) under 11, a female having kid(s) under 11 have 7.11% less chance of working\n",
    "* Compared to a female of same characteristics (same educ, age, kids, kids11, nonlaby) but in poor health, a female in good health have 14% more chance of working.\n",
    "* Having one more unit of non labor income (everything else being equal), decreases the probability of working of 19%"
   ]
  },
  {
   "cell_type": "markdown",
   "metadata": {},
   "source": [
    "# 3. Multinomial logit model"
   ]
  },
  {
   "cell_type": "code",
   "execution_count": 23,
   "metadata": {},
   "outputs": [
    {
     "name": "stdout",
     "output_type": "stream",
     "text": [
      "Optimization terminated successfully.\n",
      "         Current function value: 1.165207\n",
      "         Iterations 7\n"
     ]
    }
   ],
   "source": [
    "y = df[\"lfstat\"]\n",
    "m_logit = sm.MNLogit(y, X)\n",
    "m_result = m_logit.fit()"
   ]
  },
  {
   "cell_type": "markdown",
   "metadata": {},
   "source": [
    "## 3.1 Marginal effects"
   ]
  },
  {
   "cell_type": "code",
   "execution_count": 24,
   "metadata": {},
   "outputs": [
    {
     "data": {
      "text/html": [
       "<table class=\"simpletable\">\n",
       "<caption>MNLogit Marginal Effects</caption>\n",
       "<tr>\n",
       "  <th>Dep. Variable:</th> <td>lfstat</td> \n",
       "</tr>\n",
       "<tr>\n",
       "  <th>Method:</th>         <td>dydx</td>  \n",
       "</tr>\n",
       "<tr>\n",
       "  <th>At:</th>            <td>overall</td>\n",
       "</tr>\n",
       "</table>\n",
       "<table class=\"simpletable\">\n",
       "<tr>\n",
       "   <th>lfstat=0</th>     <th>dy/dx</th>    <th>std err</th>      <th>z</th>      <th>P>|z|</th>  <th>[0.025</th>    <th>0.975]</th>  \n",
       "</tr>\n",
       "<tr>\n",
       "  <th>educ</th>       <td>   -0.0075</td> <td>    0.002</td> <td>   -3.424</td> <td> 0.001</td> <td>   -0.012</td> <td>   -0.003</td>\n",
       "</tr>\n",
       "<tr>\n",
       "  <th>age</th>        <td>    0.0015</td> <td>    0.002</td> <td>    0.659</td> <td> 0.510</td> <td>   -0.003</td> <td>    0.006</td>\n",
       "</tr>\n",
       "<tr>\n",
       "  <th>agesq</th>      <td>-1.425e-05</td> <td>  3.5e-05</td> <td>   -0.408</td> <td> 0.684</td> <td>-8.28e-05</td> <td> 5.43e-05</td>\n",
       "</tr>\n",
       "<tr>\n",
       "  <th>kids</th>       <td>    0.0664</td> <td>    0.008</td> <td>    8.473</td> <td> 0.000</td> <td>    0.051</td> <td>    0.082</td>\n",
       "</tr>\n",
       "<tr>\n",
       "  <th>kids11</th>     <td>    0.0489</td> <td>    0.017</td> <td>    2.902</td> <td> 0.004</td> <td>    0.016</td> <td>    0.082</td>\n",
       "</tr>\n",
       "<tr>\n",
       "  <th>goodhealth</th> <td>   -0.1135</td> <td>    0.021</td> <td>   -5.357</td> <td> 0.000</td> <td>   -0.155</td> <td>   -0.072</td>\n",
       "</tr>\n",
       "<tr>\n",
       "  <th>nonlaby</th>    <td>    0.2152</td> <td>    0.022</td> <td>    9.613</td> <td> 0.000</td> <td>    0.171</td> <td>    0.259</td>\n",
       "</tr>\n",
       "<tr>\n",
       "   <th>lfstat=1</th>     <th>dy/dx</th>    <th>std err</th>      <th>z</th>      <th>P>|z|</th>  <th>[0.025</th>    <th>0.975]</th>  \n",
       "</tr>\n",
       "<tr>\n",
       "  <th>educ</th>       <td>    0.0062</td> <td>    0.003</td> <td>    2.391</td> <td> 0.017</td> <td>    0.001</td> <td>    0.011</td>\n",
       "</tr>\n",
       "<tr>\n",
       "  <th>age</th>        <td>   -0.0142</td> <td>    0.003</td> <td>   -5.112</td> <td> 0.000</td> <td>   -0.020</td> <td>   -0.009</td>\n",
       "</tr>\n",
       "<tr>\n",
       "  <th>agesq</th>      <td>    0.0003</td> <td> 4.01e-05</td> <td>    6.869</td> <td> 0.000</td> <td>    0.000</td> <td>    0.000</td>\n",
       "</tr>\n",
       "<tr>\n",
       "  <th>kids</th>       <td>    0.1104</td> <td>    0.010</td> <td>   11.346</td> <td> 0.000</td> <td>    0.091</td> <td>    0.129</td>\n",
       "</tr>\n",
       "<tr>\n",
       "  <th>kids11</th>     <td>    0.0326</td> <td>    0.021</td> <td>    1.550</td> <td> 0.121</td> <td>   -0.009</td> <td>    0.074</td>\n",
       "</tr>\n",
       "<tr>\n",
       "  <th>goodhealth</th> <td>    0.0233</td> <td>    0.029</td> <td>    0.803</td> <td> 0.422</td> <td>   -0.034</td> <td>    0.080</td>\n",
       "</tr>\n",
       "<tr>\n",
       "  <th>nonlaby</th>    <td>    0.0237</td> <td>    0.035</td> <td>    0.668</td> <td> 0.504</td> <td>   -0.046</td> <td>    0.093</td>\n",
       "</tr>\n",
       "<tr>\n",
       "   <th>lfstat=2</th>     <th>dy/dx</th>    <th>std err</th>      <th>z</th>      <th>P>|z|</th>  <th>[0.025</th>    <th>0.975]</th>  \n",
       "</tr>\n",
       "<tr>\n",
       "  <th>educ</th>       <td>    0.0010</td> <td>    0.002</td> <td>    0.419</td> <td> 0.675</td> <td>   -0.004</td> <td>    0.006</td>\n",
       "</tr>\n",
       "<tr>\n",
       "  <th>age</th>        <td>    0.0123</td> <td>    0.003</td> <td>    4.777</td> <td> 0.000</td> <td>    0.007</td> <td>    0.017</td>\n",
       "</tr>\n",
       "<tr>\n",
       "  <th>agesq</th>      <td>   -0.0002</td> <td> 3.66e-05</td> <td>   -6.012</td> <td> 0.000</td> <td>   -0.000</td> <td>   -0.000</td>\n",
       "</tr>\n",
       "<tr>\n",
       "  <th>kids</th>       <td>   -0.1191</td> <td>    0.011</td> <td>  -11.268</td> <td> 0.000</td> <td>   -0.140</td> <td>   -0.098</td>\n",
       "</tr>\n",
       "<tr>\n",
       "  <th>kids11</th>     <td>   -0.0528</td> <td>    0.021</td> <td>   -2.525</td> <td> 0.012</td> <td>   -0.094</td> <td>   -0.012</td>\n",
       "</tr>\n",
       "<tr>\n",
       "  <th>goodhealth</th> <td>    0.0872</td> <td>    0.029</td> <td>    2.976</td> <td> 0.003</td> <td>    0.030</td> <td>    0.145</td>\n",
       "</tr>\n",
       "<tr>\n",
       "  <th>nonlaby</th>    <td>   -0.2636</td> <td>    0.045</td> <td>   -5.841</td> <td> 0.000</td> <td>   -0.352</td> <td>   -0.175</td>\n",
       "</tr>\n",
       "<tr>\n",
       "   <th>lfstat=3</th>     <th>dy/dx</th>    <th>std err</th>      <th>z</th>      <th>P>|z|</th>  <th>[0.025</th>    <th>0.975]</th>  \n",
       "</tr>\n",
       "<tr>\n",
       "  <th>educ</th>       <td>    0.0003</td> <td>    0.002</td> <td>    0.197</td> <td> 0.843</td> <td>   -0.003</td> <td>    0.003</td>\n",
       "</tr>\n",
       "<tr>\n",
       "  <th>age</th>        <td>    0.0004</td> <td>    0.002</td> <td>    0.209</td> <td> 0.834</td> <td>   -0.003</td> <td>    0.004</td>\n",
       "</tr>\n",
       "<tr>\n",
       "  <th>agesq</th>      <td>-4.091e-05</td> <td> 2.44e-05</td> <td>   -1.673</td> <td> 0.094</td> <td>-8.88e-05</td> <td>    7e-06</td>\n",
       "</tr>\n",
       "<tr>\n",
       "  <th>kids</th>       <td>   -0.0578</td> <td>    0.008</td> <td>   -7.014</td> <td> 0.000</td> <td>   -0.074</td> <td>   -0.042</td>\n",
       "</tr>\n",
       "<tr>\n",
       "  <th>kids11</th>     <td>   -0.0287</td> <td>    0.016</td> <td>   -1.843</td> <td> 0.065</td> <td>   -0.059</td> <td>    0.002</td>\n",
       "</tr>\n",
       "<tr>\n",
       "  <th>goodhealth</th> <td>    0.0031</td> <td>    0.019</td> <td>    0.165</td> <td> 0.869</td> <td>   -0.034</td> <td>    0.040</td>\n",
       "</tr>\n",
       "<tr>\n",
       "  <th>nonlaby</th>    <td>    0.0247</td> <td>    0.025</td> <td>    0.983</td> <td> 0.326</td> <td>   -0.025</td> <td>    0.074</td>\n",
       "</tr>\n",
       "</table>"
      ],
      "text/plain": [
       "<class 'statsmodels.iolib.summary.Summary'>\n",
       "\"\"\"\n",
       "       MNLogit Marginal Effects      \n",
       "=====================================\n",
       "Dep. Variable:                 lfstat\n",
       "Method:                          dydx\n",
       "At:                           overall\n",
       "==============================================================================\n",
       "  lfstat=0      dy/dx    std err          z      P>|z|      [0.025      0.975]\n",
       "------------------------------------------------------------------------------\n",
       "educ          -0.0075      0.002     -3.424      0.001      -0.012      -0.003\n",
       "age            0.0015      0.002      0.659      0.510      -0.003       0.006\n",
       "agesq      -1.425e-05    3.5e-05     -0.408      0.684   -8.28e-05    5.43e-05\n",
       "kids           0.0664      0.008      8.473      0.000       0.051       0.082\n",
       "kids11         0.0489      0.017      2.902      0.004       0.016       0.082\n",
       "goodhealth    -0.1135      0.021     -5.357      0.000      -0.155      -0.072\n",
       "nonlaby        0.2152      0.022      9.613      0.000       0.171       0.259\n",
       "------------------------------------------------------------------------------\n",
       "  lfstat=1      dy/dx    std err          z      P>|z|      [0.025      0.975]\n",
       "------------------------------------------------------------------------------\n",
       "educ           0.0062      0.003      2.391      0.017       0.001       0.011\n",
       "age           -0.0142      0.003     -5.112      0.000      -0.020      -0.009\n",
       "agesq          0.0003   4.01e-05      6.869      0.000       0.000       0.000\n",
       "kids           0.1104      0.010     11.346      0.000       0.091       0.129\n",
       "kids11         0.0326      0.021      1.550      0.121      -0.009       0.074\n",
       "goodhealth     0.0233      0.029      0.803      0.422      -0.034       0.080\n",
       "nonlaby        0.0237      0.035      0.668      0.504      -0.046       0.093\n",
       "------------------------------------------------------------------------------\n",
       "  lfstat=2      dy/dx    std err          z      P>|z|      [0.025      0.975]\n",
       "------------------------------------------------------------------------------\n",
       "educ           0.0010      0.002      0.419      0.675      -0.004       0.006\n",
       "age            0.0123      0.003      4.777      0.000       0.007       0.017\n",
       "agesq         -0.0002   3.66e-05     -6.012      0.000      -0.000      -0.000\n",
       "kids          -0.1191      0.011    -11.268      0.000      -0.140      -0.098\n",
       "kids11        -0.0528      0.021     -2.525      0.012      -0.094      -0.012\n",
       "goodhealth     0.0872      0.029      2.976      0.003       0.030       0.145\n",
       "nonlaby       -0.2636      0.045     -5.841      0.000      -0.352      -0.175\n",
       "------------------------------------------------------------------------------\n",
       "  lfstat=3      dy/dx    std err          z      P>|z|      [0.025      0.975]\n",
       "------------------------------------------------------------------------------\n",
       "educ           0.0003      0.002      0.197      0.843      -0.003       0.003\n",
       "age            0.0004      0.002      0.209      0.834      -0.003       0.004\n",
       "agesq      -4.091e-05   2.44e-05     -1.673      0.094   -8.88e-05       7e-06\n",
       "kids          -0.0578      0.008     -7.014      0.000      -0.074      -0.042\n",
       "kids11        -0.0287      0.016     -1.843      0.065      -0.059       0.002\n",
       "goodhealth     0.0031      0.019      0.165      0.869      -0.034       0.040\n",
       "nonlaby        0.0247      0.025      0.983      0.326      -0.025       0.074\n",
       "==============================================================================\n",
       "\"\"\""
      ]
     },
     "execution_count": 24,
     "metadata": {},
     "output_type": "execute_result"
    }
   ],
   "source": [
    "m_result.get_margeff().summary()"
   ]
  },
  {
   "cell_type": "markdown",
   "metadata": {},
   "source": [
    "## 3.2 Interpretation"
   ]
  },
  {
   "cell_type": "markdown",
   "metadata": {},
   "source": [
    "__Let :__\n",
    " * Pr(y=0) the probability of not working\n",
    " * Pr(y=1) the probability of working part-time\n",
    " * Pr(y=2) the probability of working full-time\n",
    " * Pr(y=3) the probability of working over-time\n",
    " \n",
    "*Note : The significance is defined at the threshold of 5%*\n",
    "\n",
    "__Education :__\n",
    "\n",
    "Having one more year of education only have a significant impact on Pr(y=0) and Pr(y=1). Having one more year of education decreases Pr(y=0) of 0.75%, whereas it increases Pr(y=1) of 0.62%. So education have a positive effect of the labour supply of females.\n",
    "\n",
    "__Age :__\n",
    "\n",
    "Being older of one year only have a significant impact on Pr(y=1) and Pr(y=2). Being older of one year decreases Pr(y=1) of 1.46%, whereas it increases Pr(y=2) of 1.23%. The marginal effect of `agesq` (age square) have an opposite sign with the one of age. So as their age increases, females tend to participate more in the labor market as they work less in part-time and more in full-time ; but this is true only until a steady or even a turning point.\n",
    "\n",
    "__Kids :__\n",
    "\n",
    "Having one more kid have a significant impact of the 4 probabilities (Pr(y=0), Pr(y=1), Pr(y=2), Pr(y=3)). The impact is positive on Pr(y=0) and Pr(y=1) : the first one increases of 6.64% and the second increases of 11.04% with one more kid. The impact is negative on Pr(y=2) and Pr(y=3) : the first one decreases of 11.91% and the seconde decreases of 5.78% with one more kid. So having one more kid decreases the labour supply of females.\n",
    "\n",
    "__Kids under 11 :__\n",
    "\n",
    "Having kid(s) under 11 only have a significant impact on Pr(y=0) and Pr(y=2). Compared to a female of same characteristics (same educ, age, kids, goodhealth, nonlaby) but having no kid(s) under 11, a female having kid(s) under 11 have 4.89% more risk of not working at all (Pr(y=0)) and 5.28% less chance of working full time (Pr(y=2)). So having kid(s) under 11 negatively impacts the labour supply of women.\n",
    "\n",
    "__Good health :__\n",
    "\n",
    "Having a good health only have a significant impact on Pr(y=0) and Pr(y=2). Compared to a female of same caracteristics (same educ, age, kids, goodhealth, nonlaby) but having a poor health, a female with a good health have 11.35% less risk of not working at all (Pr(y=0)) and 8.72% more chance of working full time (Pr(y=2)). So having a good health positively impacts labour supply of women.\n",
    "\n",
    "__Non labor income :__\n",
    "\n",
    "Having one unit more of non labor income only have a significant impact on Pr(y=0) and Pr(y=2). One unit more of non labor income increases the probability of not working at all (Pr(y=0)) of 21.52% and decreases the probability of working full-time of 26.36%. So non labor income tends to decrease the labor supply of females."
   ]
  }
 ],
 "metadata": {
  "kernelspec": {
   "display_name": "Python 3",
   "language": "python",
   "name": "python3"
  },
  "language_info": {
   "codemirror_mode": {
    "name": "ipython",
    "version": 3
   },
   "file_extension": ".py",
   "mimetype": "text/x-python",
   "name": "python",
   "nbconvert_exporter": "python",
   "pygments_lexer": "ipython3",
   "version": "3.7.1"
  }
 },
 "nbformat": 4,
 "nbformat_minor": 2
}
